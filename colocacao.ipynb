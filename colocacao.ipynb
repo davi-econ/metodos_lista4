{
 "cells": [
  {
   "cell_type": "code",
   "execution_count": null,
   "metadata": {},
   "outputs": [],
   "source": [
    "function res_colocacao(A,L,grid_k,grid_z,P,r,μ)\n",
    "    nz = length(grid_z)\n",
    "    nl = length(L)\n",
    "    nk = length(grid_k)\n",
    "    res = zeros(nk,nz)\n",
    "    k_prov = zeros(nk)\n",
    "\n",
    "    pe =  phi_matricial(L,grid_k) # termos da colocação\n",
    "    c_0 = fea_consumo(A,pe) # consumo\n",
    "    k_1 = grid_z' .+ (1 + r).*grid_k .- c_0\n",
    "\n",
    "    #k_prov = sum(k_1,dims = 2)/nz\n",
    "    #phi1 = phi_matricial(L,k_prov)\n",
    "\n",
    "    for estado in 1:nz\n",
    "        phi1 = phi_matricial(L,k_1[:,estado])\n",
    "        c_1 = fea_consumo(A[:,estado],phi1)\n",
    "        ulinha = c_1.^(-μ)\n",
    "        dcdk = ones(nz)'*(1+r)\n",
    "        lde = ulinha.*dcdk\n",
    "        for id in 1:nl\n",
    "            res[id,estado] = c_0[id,estado]^(-μ) - 0.96*dot(P[estado,:],lde[id,:])\n",
    "        end\n",
    "    end\n",
    "    \n",
    "    return res\n",
    "end\n",
    "\n"
   ]
  },
  {
   "cell_type": "code",
   "execution_count": null,
   "metadata": {},
   "outputs": [],
   "source": [
    "function fea_colocacao(L,grid_k,grid_z,P,r,μ)\n",
    "    A = Vector(LinRange(0.5,1.2,length(L)))\n",
    "    for i in 1:(length(grid_z)-1)\n",
    "       A= hcat(A,Vector(LinRange(0.5 + i/20,1.2+ i/90,length(L))))\n",
    "    end\n",
    "    g(A) = res_colocacao(A,L,L,grid_z,P,r,μ)\n",
    "    a_otimo = nlsolve(g,A).zero\n",
    "\n",
    "    c_0 = fea_consumo(a_otimo, phi_matricial(L,grid_k))\n",
    "    k_1 = grid_z' .+ (1 +r).*grid_k .- c_0\n",
    "    \n",
    "    return c_0, k_1\n",
    "end"
   ]
  },
  {
   "cell_type": "code",
   "execution_count": null,
   "metadata": {},
   "outputs": [],
   "source": [
    "function eee_colocacao(a_otimo,L,grid_k,grid_z,P,r)\n",
    "    nk = length(grid_k)\n",
    "    nz = length(grid_z)\n",
    "    eee = zeros(nk,nz)\n",
    "\n",
    "    pe = phi_matricial(L,grid_k)\n",
    "    c_0 = fea_consumo(a_otimo,pe)\n",
    "\n",
    "    k_1 = grid_z' .+ (1 + r).*grid_k .- c_0\n",
    "    for estado in 1:nz\n",
    "        phi1 = phi_matricial(L,k_1[:,estado])\n",
    "        c_1 = fea_consumo(a_otimo[:,estado],phi1)\n",
    "        ulinha = c_1.^(-1.0001)\n",
    "        dcdk = 1+r \n",
    "        lde = ulinha.*dcdk\n",
    "        for id in 1:nk\n",
    "             inversa = (0.96*dot(P[estado,:],lde[id,:]))^(-1/1.0001)\n",
    "             eee[id,estado] = 1 - inversa/c_0[id,estado]\n",
    "        end\n",
    "    end\n",
    "    eee = log10.(abs.(eee))\n",
    "    return eee\n",
    "end"
   ]
  }
 ],
 "metadata": {
  "kernelspec": {
   "display_name": "Julia 1.7.2",
   "language": "julia",
   "name": "julia-1.7"
  },
  "language_info": {
   "file_extension": ".jl",
   "mimetype": "application/julia",
   "name": "julia",
   "version": "1.7.2"
  },
  "orig_nbformat": 4
 },
 "nbformat": 4,
 "nbformat_minor": 2
}
