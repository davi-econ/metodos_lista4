{
 "cells": [
  {
   "cell_type": "code",
   "execution_count": null,
   "metadata": {},
   "outputs": [],
   "source": [
    "## Função para encontrar distribuição invariante\n",
    "function dist_invariante(P;pk)\n",
    "    nx = length(P[1,:])*length(pk[:,1])\n",
    "    nz = length(P[1,:])\n",
    "    Q = zeros(nx,nx)\n",
    "    uns  = ones(nx,nx)\n",
    "    um = ones(nx,1)\n",
    "    Id1 = Matrix(I,nx,nx)\n",
    "    for i in 1:nx\n",
    "        for j in 1:nx\n",
    "            a_i = div(j-1,nz) + 1 # índice de capital, para averiguar se é igrual à função política para aquele par\n",
    "            b_i = (j - 1) % nz  + 1\n",
    "            hoje_s = (i - 1)  % nz  + 1\n",
    "            hoje_a= div(i-1,nz) + 1\n",
    "            if a_i == pk[hoje_a,hoje_s]\n",
    "                Q[i,j] = P[hoje_s,b_i]\n",
    "            end\n",
    "        end\n",
    "    end\n",
    "    λ = (Id1 - Q + uns)'\\um\n",
    "    return Q, λ\n",
    "end"
   ]
  },
  {
   "cell_type": "code",
   "execution_count": null,
   "metadata": {},
   "outputs": [],
   "source": [
    "# função de excesso de demanda de ativos\n",
    "function hugget_capital_demand(dist_inva;grid_a)\n",
    "    na = length(grid_a)\n",
    "    nz = Int(length(dist_inva)/na)\n",
    "    opa = reshape(dist_inva, nz,na)\n",
    "    dist_a = sum(opa,dims = 1)\n",
    "    dist_z = sum(opa,dims = 2)\n",
    "    K = dot(grid_a,dist_a)\n",
    "    return K, dist_a', dist_z, opa\n",
    "end"
   ]
  },
  {
   "cell_type": "code",
   "execution_count": null,
   "metadata": {},
   "outputs": [],
   "source": [
    "# função para taxa de juros market-clearing do mercado de ativos\n",
    "function equilibrio_r(β,σ,ρ,γ)\n",
    "    erro2 =2\n",
    "    r_max = 1/β - 1\n",
    "    r_min = 0\n",
    "    matriz_M = Array\n",
    "    Z, P = disc_t(9;mu= 0, sigma = σ, rho= ρ, m = 3)\n",
    "    S = exp.(Z)\n",
    "    grid_a = LinRange(-minimum(S)/r_max,maximum(S)/r_max,1000)\n",
    "    r_0 = (r_max +r_min)/2\n",
    "    while erro2 > 1e-5    \n",
    "        v_ha, k_ha, c_ha = ha_mg_acelerado([50 100 200 1000];grid_z = S,P,β = β,γ = γ,r = r_0 )\n",
    "        Q, λ =  dist_invariante(P; pk = k_ha)\n",
    "        K_new, matriz_M = hugget_capital_demand(λ;grid_a)[vec([1 4])]\n",
    "        r_new = r_0\n",
    "        if K_new > 1e-5\n",
    "            r_max = r_0\n",
    "            r_min = r_min\n",
    "            r_0 = (r_max +r_min)/2\n",
    "            println(\"capital $K_new juros  $r_0\")\n",
    "            erro2 = abs(r_new - r_0)\n",
    "        elseif K_new < -1e-5\n",
    "            r_max = r_max\n",
    "            r_min = r_0\n",
    "            r_0 = (r_max + r_min)/2\n",
    "            println(\"capital $K_new juros $r_0\")\n",
    "            erro2 = abs(r_new - r_0)\n",
    "        else\n",
    "            println(\"capital $K_new juros $r_0\")\n",
    "            erro2 = abs(r_new - r_0)\n",
    "        end\n",
    "    end\n",
    "    return r_0, matriz_M, v_ha, k_ha, c_ha\n",
    "end"
   ]
  }
 ],
 "metadata": {
  "kernelspec": {
   "display_name": "Julia 1.7.2",
   "language": "julia",
   "name": "julia-1.7"
  },
  "language_info": {
   "file_extension": ".jl",
   "mimetype": "application/julia",
   "name": "julia",
   "version": "1.7.2"
  },
  "orig_nbformat": 4
 },
 "nbformat": 4,
 "nbformat_minor": 2
}
