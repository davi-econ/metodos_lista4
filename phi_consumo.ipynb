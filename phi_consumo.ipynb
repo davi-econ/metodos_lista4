{
 "cells": [
  {
   "cell_type": "code",
   "execution_count": null,
   "metadata": {},
   "outputs": [],
   "source": [
    "#########################\n",
    "## Phi, o interpolante ##\n",
    "#########################\n",
    "function phi_inf(k;k_i,k_inf)\n",
    "    (k - k_inf )/(k_i - k_inf)\n",
    "end\n",
    "\n",
    "function phi_sup(k;k_i,k_sup)\n",
    "    (k_sup - k )/(k_sup - k_i)\n",
    "end\n"
   ]
  },
  {
   "cell_type": "code",
   "execution_count": null,
   "metadata": {},
   "outputs": [],
   "source": [
    "function phi_matricial(L,K)\n",
    "    nl = length(L)\n",
    "    nk = length(K)\n",
    "    pee = zeros(nk,nl)\n",
    "    for i in 1:nk\n",
    "        for j in 2:(nl-1)\n",
    "            if K[i] >= L[j-1] && K[i] < L[j]\n",
    "                pee[i,j] = phi_inf(K[i]; k_i = L[j], k_inf = L[j-1])\n",
    "            elseif K[i] >= L[j] && K[i] <= L[j+1]\n",
    "                pee[i,j] = phi_sup(K[i]; k_i = L[j], k_sup = L[j+1])\n",
    "            else\n",
    "                pee[i,j] = 0\n",
    "            end\n",
    "        end\n",
    "        if K[i] >= L[1] && K[i] < L[2]\n",
    "            pee[i,1] = phi_sup(K[i]; k_i = L[1], k_sup = L[2])\n",
    "        elseif K[i] < L[1]\n",
    "            pee[i,1] = 1\n",
    "        else\n",
    "            pee[i,1] = 0\n",
    "        end\n",
    "        if K[i] <= L[nl] && K[i] > L[nl-1]\n",
    "            pee[i,nl] = phi_inf(K[i]; k_i = L[nl], k_inf = L[nl-1])\n",
    "        elseif K[i] > L[nl]\n",
    "            pee[i,nl] = 1\n",
    "        else\n",
    "            pee[i,nl] = 0\n",
    "        end\n",
    "    end\n",
    "    return pee\n",
    "end\n"
   ]
  },
  {
   "cell_type": "code",
   "execution_count": null,
   "metadata": {},
   "outputs": [],
   "source": [
    "function fea_consumo(matriz_a,matriz_phi)\n",
    "    matriz_phi*matriz_a\n",
    "end\n"
   ]
  }
 ],
 "metadata": {
  "kernelspec": {
   "display_name": "Julia 1.7.2",
   "language": "julia",
   "name": "julia-1.7"
  },
  "language_info": {
   "file_extension": ".jl",
   "mimetype": "application/julia",
   "name": "julia",
   "version": "1.7.2"
  },
  "orig_nbformat": 4
 },
 "nbformat": 4,
 "nbformat_minor": 2
}
