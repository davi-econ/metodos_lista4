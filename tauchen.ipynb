{
 "cells": [
  {
   "cell_type": "code",
   "execution_count": 1,
   "metadata": {},
   "outputs": [
    {
     "data": {
      "text/plain": [
       "disc_t (generic function with 1 method)"
      ]
     },
     "metadata": {},
     "output_type": "display_data"
    }
   ],
   "source": [
    "## Discretização via Tauchen\n",
    "function disc_t(N; mu= 0, sigma = 0.007, rho= 0.95, m = 3)\n",
    "    # extremos e vetor de thetas\n",
    "    theta_n = mu + sigma*m/sqrt(1-rho^2)\n",
    "    theta_1 = mu - sigma*m/sqrt(1-rho^2)\n",
    "    thetas = LinRange(theta_1,theta_n,N)\n",
    "\n",
    "    # pontos entre cada theta e extremos\n",
    "    midpoints = zeros(N+1)\n",
    "    midpoints[1] = -Inf\n",
    "    midpoints[N+1] = Inf\n",
    "    # preenchimento destes\n",
    "    for i in 2:N\n",
    "        midpoints[i]=0.5*(thetas[i-1]+thetas[i])    \n",
    "    end #loop intermediario\n",
    "\n",
    "    # matriz de transição vazia\n",
    "    P = zeros(N,N)\n",
    "    # Preenchimento dela\n",
    "    d = Normal(mu,sigma) # que distribuição vai usar\n",
    "    for i in 1:N\n",
    "        for j in 1:N\n",
    "            upper = midpoints[j+1] - (1-rho)*mu - rho*thetas[i]\n",
    "            lower = midpoints[j] - (1-rho)*mu - rho*thetas[i]\n",
    "            P[i,j] = cdf(d,upper) - cdf(d,lower)\n",
    "        end #colunas matriz transição\n",
    "    end #linhas matriz transição\n",
    "    return thetas, P\n",
    "end #função tauchen \n"
   ]
  }
 ],
 "metadata": {
  "kernelspec": {
   "display_name": "Julia 1.7.2",
   "language": "julia",
   "name": "julia-1.7"
  },
  "language_info": {
   "file_extension": ".jl",
   "mimetype": "application/julia",
   "name": "julia",
   "version": "1.7.2"
  },
  "orig_nbformat": 4
 },
 "nbformat": 4,
 "nbformat_minor": 2
}
